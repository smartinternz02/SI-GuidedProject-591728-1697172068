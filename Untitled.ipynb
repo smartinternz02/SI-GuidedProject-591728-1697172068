{
 "cells": [
  {
   "cell_type": "code",
   "execution_count": 35,
   "id": "0ba1c18d-9b48-4127-ba4c-1467b94666dd",
   "metadata": {
    "tags": []
   },
   "outputs": [],
   "source": [
    "#import libraries\n",
    "import numpy as np\n",
    "import pandas as pd\n",
    "import matplotlib.pyplot as plt\n",
    "import seaborn as sns\n",
    "import pickle\n",
    "from sklearn.preprocessing import LabelEncoder\n",
    "from sklearn.metrics import r2_score\n",
    "from sklearn.model_selection import train_test_split\n",
    "from sklearn.linear_model import LinearRegression\n",
    "from xgboost import XGBRegressor\n",
    "from sklearn.tree import DecisionTreeRegressor\n",
    "from sklearn.ensemble import RandomForestRegressor\n",
    "from sklearn.ensemble import GradientBoostingRegressor\n",
    "from sklearn.model_selection import GridSearchCV\n",
    "from sklearn.metrics import mean_squared_error,mean_squared_log_error\n"
   ]
  },
  {
   "cell_type": "code",
   "execution_count": 36,
   "id": "01edb329-bbd9-44e5-8568-95c21db2c94e",
   "metadata": {},
   "outputs": [],
   "source": [
    "#reading the bodyfat.csv file using pandas and storing it in df.\n",
    "df=pd.read_csv(\"smart watch prices.csv\")\n"
   ]
  },
  {
   "cell_type": "code",
   "execution_count": 37,
   "id": "4173b6b9-57ab-4db7-90e7-e47009b3afd9",
   "metadata": {
    "tags": []
   },
   "outputs": [
    {
     "data": {
      "text/plain": [
       "Brand                        1\n",
       "Model                        1\n",
       "Operating System             3\n",
       "Connectivity                 1\n",
       "Display Type                 2\n",
       "Display Size (inches)        3\n",
       "Resolution                   4\n",
       "Water Resistance (meters)    1\n",
       "Battery Life (days)          1\n",
       "Heart Rate Monitor           1\n",
       "GPS                          1\n",
       "NFC                          1\n",
       "Price (USD)                  1\n",
       "dtype: int64"
      ]
     },
     "execution_count": 37,
     "metadata": {},
     "output_type": "execute_result"
    }
   ],
   "source": [
    "df.isna().sum()"
   ]
  },
  {
   "cell_type": "code",
   "execution_count": 38,
   "id": "dd3926b3-31c9-4ff6-9399-ced76d5af4d8",
   "metadata": {
    "tags": []
   },
   "outputs": [],
   "source": [
    "#replace null values in object column with mode\n",
    "object_columns=df.select_dtypes(include=[\"object\"]).columns\n",
    "for col in object_columns:\n",
    "    mode_value=df[col].mode()[0]\n",
    "    df[col]=df[col].fillna(mode_value)\n",
    "\n",
    "#replace null values in float column with mean\n",
    "float_column=df.select_dtypes(include=['float64']).columns\n",
    "for col in float_column:\n",
    "    mean_value=df[col].mean()\n",
    "    df[col]=df[col].fillna(mean_value)\n",
    "    "
   ]
  },
  {
   "cell_type": "code",
   "execution_count": 39,
   "id": "8c28fa00-c456-4688-bc8f-cf4512762294",
   "metadata": {
    "tags": []
   },
   "outputs": [],
   "source": [
    "df=df.rename(columns={\n",
    "   'Display Size (inches)':'Display Size',\n",
    "   'Water Resistance (meters)':'Water Resistance',\n",
    "   'Battery Life (days)':'Battery Life',\n",
    "   'Price (USD)':'Price'\n",
    "})\n"
   ]
  },
  {
   "cell_type": "code",
   "execution_count": 40,
   "id": "c9c53c83-9bf7-4427-895b-07e9374a08fd",
   "metadata": {
    "tags": []
   },
   "outputs": [
    {
     "data": {
      "text/plain": [
       "array(['50', '30', '100', '1.5', 'Not specified', '200', '10'],\n",
       "      dtype=object)"
      ]
     },
     "execution_count": 40,
     "metadata": {},
     "output_type": "execute_result"
    }
   ],
   "source": [
    "df['Water Resistance'].unique()\n"
   ]
  },
  {
   "cell_type": "code",
   "execution_count": 41,
   "id": "928fdb7e-8830-44ed-ad2c-097c503fa6e0",
   "metadata": {
    "tags": []
   },
   "outputs": [
    {
     "data": {
      "text/plain": [
       "count     379\n",
       "unique      7\n",
       "top        50\n",
       "freq      276\n",
       "Name: Water Resistance, dtype: object"
      ]
     },
     "execution_count": 41,
     "metadata": {},
     "output_type": "execute_result"
    }
   ],
   "source": [
    "df['Water Resistance'].describe()\n"
   ]
  },
  {
   "cell_type": "code",
   "execution_count": 42,
   "id": "0a79f060-80d0-4dae-a53f-f61dc368fd57",
   "metadata": {
    "tags": []
   },
   "outputs": [],
   "source": [
    "df['Water Resistance']=df['Water Resistance'].replace({'Not specified':'50'})\n",
    "\n"
   ]
  },
  {
   "cell_type": "code",
   "execution_count": 43,
   "id": "ba9e4f31-2fca-4e59-b6de-8dfaf62aeada",
   "metadata": {
    "tags": []
   },
   "outputs": [
    {
     "data": {
      "text/plain": [
       "array([1.9       , 1.4       , 1.3       , 1.58      , 1.28      ,\n",
       "       1.43      , 1.75      , 1.39      , 1.36316489, 1.65      ,\n",
       "       1.2       , 1.57      , 1.        , 1.78      , 1.91      ,\n",
       "       1.38      , 1.06      , 1.35      , 1.34      , 0.9       ,\n",
       "       1.04      , 1.64      , 1.19      , 4.01      , 1.6       ,\n",
       "       1.42      , 2.1       , 1.23      , 1.1       , 1.22      ,\n",
       "       1.5       , 1.36      , 1.32      ])"
      ]
     },
     "execution_count": 43,
     "metadata": {},
     "output_type": "execute_result"
    }
   ],
   "source": [
    "df['Display Size'].unique()"
   ]
  },
  {
   "cell_type": "code",
   "execution_count": 44,
   "id": "fcd90c40-8d33-41db-90b8-f4861868b1fd",
   "metadata": {
    "tags": []
   },
   "outputs": [],
   "source": [
    "df['Display Size']=df['Display Size'].round(1)\n"
   ]
  },
  {
   "cell_type": "code",
   "execution_count": 45,
   "id": "6a29650e-31a9-46c4-b941-c53c8a2acbbe",
   "metadata": {
    "tags": []
   },
   "outputs": [
    {
     "data": {
      "text/plain": [
       "array(['18', '40', '11', '6', '24', '14', '2', '4', '12', '30', '3', '45',\n",
       "       '5', '10', '48', '7', '16', '9', '25', '72', '60', '56', '70', '1',\n",
       "       '48 hours', '15', 'Unlimited', '1.5', '20', '8'], dtype=object)"
      ]
     },
     "execution_count": 45,
     "metadata": {},
     "output_type": "execute_result"
    }
   ],
   "source": [
    "df['Battery Life'].unique()"
   ]
  },
  {
   "cell_type": "code",
   "execution_count": 46,
   "id": "fcfca69a-3171-470c-b2bf-cbc5f2823b94",
   "metadata": {
    "tags": []
   },
   "outputs": [
    {
     "data": {
      "text/plain": [
       "count     379\n",
       "unique     30\n",
       "top        14\n",
       "freq       84\n",
       "Name: Battery Life, dtype: object"
      ]
     },
     "execution_count": 46,
     "metadata": {},
     "output_type": "execute_result"
    }
   ],
   "source": [
    "df['Battery Life'].describe()"
   ]
  },
  {
   "cell_type": "code",
   "execution_count": 53,
   "id": "2c17f7fa-22c6-4d00-bb33-0448c4ebd2ab",
   "metadata": {
    "tags": []
   },
   "outputs": [],
   "source": [
    "df['Battery Life']=df['Battery Life'].replace({'48 hours' : '14','Unlimited' : '14'})"
   ]
  },
  {
   "cell_type": "code",
   "execution_count": 54,
   "id": "db5e8ab8-0258-452b-9b85-2f49d4714af2",
   "metadata": {
    "tags": []
   },
   "outputs": [],
   "source": [
    "df['Price'] = df['Price'].str[1:]"
   ]
  },
  {
   "cell_type": "code",
   "execution_count": 55,
   "id": "262a2407-e1ac-4192-bba6-2f41ceeb47ed",
   "metadata": {
    "tags": []
   },
   "outputs": [],
   "source": [
    "df['Water Resistance'] = df['Water Resistance'].astype(float)\n",
    "\n"
   ]
  },
  {
   "cell_type": "code",
   "execution_count": 56,
   "id": "ada53aab-d83b-45f8-95df-e4ce0fbe8dc6",
   "metadata": {
    "tags": []
   },
   "outputs": [],
   "source": [
    "df['Battery Life'] = df['Battery Life'].astype(float)\n",
    "\n"
   ]
  },
  {
   "cell_type": "code",
   "execution_count": 57,
   "id": "8d136541-41ba-4430-a065-780c7dafe9d7",
   "metadata": {
    "tags": []
   },
   "outputs": [],
   "source": [
    "lb = LabelEncoder()\n",
    "categorical_cols = df.select_dtypes(include=['object']).columns.tolist()\n",
    "for col in categorical_cols:\n",
    "   df[col] = lb.fit_transform(df[col])"
   ]
  },
  {
   "cell_type": "code",
   "execution_count": 58,
   "id": "91493b2d-1969-42bc-953e-be35b285a170",
   "metadata": {
    "tags": []
   },
   "outputs": [
    {
     "data": {
      "text/html": [
       "<div>\n",
       "<style scoped>\n",
       "    .dataframe tbody tr th:only-of-type {\n",
       "        vertical-align: middle;\n",
       "    }\n",
       "\n",
       "    .dataframe tbody tr th {\n",
       "        vertical-align: top;\n",
       "    }\n",
       "\n",
       "    .dataframe thead th {\n",
       "        text-align: right;\n",
       "    }\n",
       "</style>\n",
       "<table border=\"1\" class=\"dataframe\">\n",
       "  <thead>\n",
       "    <tr style=\"text-align: right;\">\n",
       "      <th></th>\n",
       "      <th>Brand</th>\n",
       "      <th>Model</th>\n",
       "      <th>Operating System</th>\n",
       "      <th>Connectivity</th>\n",
       "      <th>Display Type</th>\n",
       "      <th>Display Size</th>\n",
       "      <th>Resolution</th>\n",
       "      <th>Water Resistance</th>\n",
       "      <th>Battery Life</th>\n",
       "      <th>Heart Rate Monitor</th>\n",
       "      <th>GPS</th>\n",
       "      <th>NFC</th>\n",
       "      <th>Price</th>\n",
       "    </tr>\n",
       "  </thead>\n",
       "  <tbody>\n",
       "    <tr>\n",
       "      <th>0</th>\n",
       "      <td>1</td>\n",
       "      <td>127</td>\n",
       "      <td>34</td>\n",
       "      <td>2</td>\n",
       "      <td>17</td>\n",
       "      <td>1.9</td>\n",
       "      <td>27</td>\n",
       "      <td>50.0</td>\n",
       "      <td>18.0</td>\n",
       "      <td>0</td>\n",
       "      <td>1</td>\n",
       "      <td>1</td>\n",
       "      <td>23</td>\n",
       "    </tr>\n",
       "    <tr>\n",
       "      <th>1</th>\n",
       "      <td>30</td>\n",
       "      <td>36</td>\n",
       "      <td>31</td>\n",
       "      <td>2</td>\n",
       "      <td>0</td>\n",
       "      <td>1.4</td>\n",
       "      <td>31</td>\n",
       "      <td>50.0</td>\n",
       "      <td>40.0</td>\n",
       "      <td>0</td>\n",
       "      <td>1</td>\n",
       "      <td>1</td>\n",
       "      <td>12</td>\n",
       "    </tr>\n",
       "    <tr>\n",
       "      <th>2</th>\n",
       "      <td>8</td>\n",
       "      <td>105</td>\n",
       "      <td>9</td>\n",
       "      <td>1</td>\n",
       "      <td>0</td>\n",
       "      <td>1.3</td>\n",
       "      <td>30</td>\n",
       "      <td>50.0</td>\n",
       "      <td>11.0</td>\n",
       "      <td>0</td>\n",
       "      <td>1</td>\n",
       "      <td>0</td>\n",
       "      <td>23</td>\n",
       "    </tr>\n",
       "    <tr>\n",
       "      <th>3</th>\n",
       "      <td>6</td>\n",
       "      <td>109</td>\n",
       "      <td>7</td>\n",
       "      <td>1</td>\n",
       "      <td>0</td>\n",
       "      <td>1.6</td>\n",
       "      <td>19</td>\n",
       "      <td>50.0</td>\n",
       "      <td>6.0</td>\n",
       "      <td>0</td>\n",
       "      <td>1</td>\n",
       "      <td>1</td>\n",
       "      <td>10</td>\n",
       "    </tr>\n",
       "    <tr>\n",
       "      <th>4</th>\n",
       "      <td>7</td>\n",
       "      <td>43</td>\n",
       "      <td>31</td>\n",
       "      <td>1</td>\n",
       "      <td>0</td>\n",
       "      <td>1.3</td>\n",
       "      <td>30</td>\n",
       "      <td>30.0</td>\n",
       "      <td>24.0</td>\n",
       "      <td>0</td>\n",
       "      <td>1</td>\n",
       "      <td>1</td>\n",
       "      <td>23</td>\n",
       "    </tr>\n",
       "  </tbody>\n",
       "</table>\n",
       "</div>"
      ],
      "text/plain": [
       "   Brand  Model  Operating System  Connectivity  Display Type  Display Size  \\\n",
       "0      1    127                34             2            17           1.9   \n",
       "1     30     36                31             2             0           1.4   \n",
       "2      8    105                 9             1             0           1.3   \n",
       "3      6    109                 7             1             0           1.6   \n",
       "4      7     43                31             1             0           1.3   \n",
       "\n",
       "   Resolution  Water Resistance  Battery Life  Heart Rate Monitor  GPS  NFC  \\\n",
       "0          27              50.0          18.0                   0    1    1   \n",
       "1          31              50.0          40.0                   0    1    1   \n",
       "2          30              50.0          11.0                   0    1    0   \n",
       "3          19              50.0           6.0                   0    1    1   \n",
       "4          30              30.0          24.0                   0    1    1   \n",
       "\n",
       "   Price  \n",
       "0     23  \n",
       "1     12  \n",
       "2     23  \n",
       "3     10  \n",
       "4     23  "
      ]
     },
     "execution_count": 58,
     "metadata": {},
     "output_type": "execute_result"
    }
   ],
   "source": [
    "df.head()\n"
   ]
  },
  {
   "cell_type": "code",
   "execution_count": 59,
   "id": "57804e09-36c3-497a-af58-79b0bb20ef20",
   "metadata": {
    "tags": []
   },
   "outputs": [
    {
     "data": {
      "text/html": [
       "<div>\n",
       "<style scoped>\n",
       "    .dataframe tbody tr th:only-of-type {\n",
       "        vertical-align: middle;\n",
       "    }\n",
       "\n",
       "    .dataframe tbody tr th {\n",
       "        vertical-align: top;\n",
       "    }\n",
       "\n",
       "    .dataframe thead th {\n",
       "        text-align: right;\n",
       "    }\n",
       "</style>\n",
       "<table border=\"1\" class=\"dataframe\">\n",
       "  <thead>\n",
       "    <tr style=\"text-align: right;\">\n",
       "      <th></th>\n",
       "      <th>Brand</th>\n",
       "      <th>Model</th>\n",
       "      <th>Operating System</th>\n",
       "      <th>Connectivity</th>\n",
       "      <th>Display Type</th>\n",
       "      <th>Display Size</th>\n",
       "      <th>Resolution</th>\n",
       "      <th>Water Resistance</th>\n",
       "      <th>Battery Life</th>\n",
       "      <th>Heart Rate Monitor</th>\n",
       "      <th>GPS</th>\n",
       "      <th>NFC</th>\n",
       "      <th>Price</th>\n",
       "    </tr>\n",
       "  </thead>\n",
       "  <tbody>\n",
       "    <tr>\n",
       "      <th>count</th>\n",
       "      <td>379.000000</td>\n",
       "      <td>379.000000</td>\n",
       "      <td>379.000000</td>\n",
       "      <td>379.000000</td>\n",
       "      <td>379.000000</td>\n",
       "      <td>379.000000</td>\n",
       "      <td>379.000000</td>\n",
       "      <td>379.000000</td>\n",
       "      <td>379.000000</td>\n",
       "      <td>379.0</td>\n",
       "      <td>379.000000</td>\n",
       "      <td>379.00000</td>\n",
       "      <td>379.000000</td>\n",
       "    </tr>\n",
       "    <tr>\n",
       "      <th>mean</th>\n",
       "      <td>18.168865</td>\n",
       "      <td>68.606860</td>\n",
       "      <td>20.778364</td>\n",
       "      <td>1.203166</td>\n",
       "      <td>6.941953</td>\n",
       "      <td>1.368074</td>\n",
       "      <td>22.139842</td>\n",
       "      <td>52.804749</td>\n",
       "      <td>12.208443</td>\n",
       "      <td>0.0</td>\n",
       "      <td>0.920844</td>\n",
       "      <td>0.83905</td>\n",
       "      <td>18.348285</td>\n",
       "    </tr>\n",
       "    <tr>\n",
       "      <th>std</th>\n",
       "      <td>13.040757</td>\n",
       "      <td>38.933753</td>\n",
       "      <td>11.407946</td>\n",
       "      <td>0.532927</td>\n",
       "      <td>8.978918</td>\n",
       "      <td>0.219087</td>\n",
       "      <td>9.080415</td>\n",
       "      <td>26.939235</td>\n",
       "      <td>12.326042</td>\n",
       "      <td>0.0</td>\n",
       "      <td>0.270338</td>\n",
       "      <td>0.36797</td>\n",
       "      <td>5.517175</td>\n",
       "    </tr>\n",
       "    <tr>\n",
       "      <th>min</th>\n",
       "      <td>0.000000</td>\n",
       "      <td>0.000000</td>\n",
       "      <td>0.000000</td>\n",
       "      <td>0.000000</td>\n",
       "      <td>0.000000</td>\n",
       "      <td>0.900000</td>\n",
       "      <td>0.000000</td>\n",
       "      <td>1.500000</td>\n",
       "      <td>1.000000</td>\n",
       "      <td>0.0</td>\n",
       "      <td>0.000000</td>\n",
       "      <td>0.00000</td>\n",
       "      <td>0.000000</td>\n",
       "    </tr>\n",
       "    <tr>\n",
       "      <th>25%</th>\n",
       "      <td>7.000000</td>\n",
       "      <td>33.500000</td>\n",
       "      <td>9.000000</td>\n",
       "      <td>1.000000</td>\n",
       "      <td>0.000000</td>\n",
       "      <td>1.200000</td>\n",
       "      <td>17.500000</td>\n",
       "      <td>50.000000</td>\n",
       "      <td>3.000000</td>\n",
       "      <td>0.0</td>\n",
       "      <td>1.000000</td>\n",
       "      <td>1.00000</td>\n",
       "      <td>12.000000</td>\n",
       "    </tr>\n",
       "    <tr>\n",
       "      <th>50%</th>\n",
       "      <td>16.000000</td>\n",
       "      <td>71.000000</td>\n",
       "      <td>27.000000</td>\n",
       "      <td>1.000000</td>\n",
       "      <td>0.000000</td>\n",
       "      <td>1.400000</td>\n",
       "      <td>23.000000</td>\n",
       "      <td>50.000000</td>\n",
       "      <td>11.000000</td>\n",
       "      <td>0.0</td>\n",
       "      <td>1.000000</td>\n",
       "      <td>1.00000</td>\n",
       "      <td>22.000000</td>\n",
       "    </tr>\n",
       "    <tr>\n",
       "      <th>75%</th>\n",
       "      <td>31.000000</td>\n",
       "      <td>102.000000</td>\n",
       "      <td>31.000000</td>\n",
       "      <td>1.000000</td>\n",
       "      <td>14.000000</td>\n",
       "      <td>1.400000</td>\n",
       "      <td>32.000000</td>\n",
       "      <td>50.000000</td>\n",
       "      <td>15.000000</td>\n",
       "      <td>0.0</td>\n",
       "      <td>1.000000</td>\n",
       "      <td>1.00000</td>\n",
       "      <td>23.000000</td>\n",
       "    </tr>\n",
       "    <tr>\n",
       "      <th>max</th>\n",
       "      <td>41.000000</td>\n",
       "      <td>136.000000</td>\n",
       "      <td>34.000000</td>\n",
       "      <td>4.000000</td>\n",
       "      <td>26.000000</td>\n",
       "      <td>4.000000</td>\n",
       "      <td>35.000000</td>\n",
       "      <td>200.000000</td>\n",
       "      <td>72.000000</td>\n",
       "      <td>0.0</td>\n",
       "      <td>1.000000</td>\n",
       "      <td>1.00000</td>\n",
       "      <td>23.000000</td>\n",
       "    </tr>\n",
       "  </tbody>\n",
       "</table>\n",
       "</div>"
      ],
      "text/plain": [
       "            Brand       Model  Operating System  Connectivity  Display Type  \\\n",
       "count  379.000000  379.000000        379.000000    379.000000    379.000000   \n",
       "mean    18.168865   68.606860         20.778364      1.203166      6.941953   \n",
       "std     13.040757   38.933753         11.407946      0.532927      8.978918   \n",
       "min      0.000000    0.000000          0.000000      0.000000      0.000000   \n",
       "25%      7.000000   33.500000          9.000000      1.000000      0.000000   \n",
       "50%     16.000000   71.000000         27.000000      1.000000      0.000000   \n",
       "75%     31.000000  102.000000         31.000000      1.000000     14.000000   \n",
       "max     41.000000  136.000000         34.000000      4.000000     26.000000   \n",
       "\n",
       "       Display Size  Resolution  Water Resistance  Battery Life  \\\n",
       "count    379.000000  379.000000        379.000000    379.000000   \n",
       "mean       1.368074   22.139842         52.804749     12.208443   \n",
       "std        0.219087    9.080415         26.939235     12.326042   \n",
       "min        0.900000    0.000000          1.500000      1.000000   \n",
       "25%        1.200000   17.500000         50.000000      3.000000   \n",
       "50%        1.400000   23.000000         50.000000     11.000000   \n",
       "75%        1.400000   32.000000         50.000000     15.000000   \n",
       "max        4.000000   35.000000        200.000000     72.000000   \n",
       "\n",
       "       Heart Rate Monitor         GPS        NFC       Price  \n",
       "count               379.0  379.000000  379.00000  379.000000  \n",
       "mean                  0.0    0.920844    0.83905   18.348285  \n",
       "std                   0.0    0.270338    0.36797    5.517175  \n",
       "min                   0.0    0.000000    0.00000    0.000000  \n",
       "25%                   0.0    1.000000    1.00000   12.000000  \n",
       "50%                   0.0    1.000000    1.00000   22.000000  \n",
       "75%                   0.0    1.000000    1.00000   23.000000  \n",
       "max                   0.0    1.000000    1.00000   23.000000  "
      ]
     },
     "execution_count": 59,
     "metadata": {},
     "output_type": "execute_result"
    }
   ],
   "source": [
    "df.describe(include='all')"
   ]
  },
  {
   "cell_type": "code",
   "execution_count": 64,
   "id": "f9f64396-ddca-4aff-b02b-c2313ac2282d",
   "metadata": {
    "tags": []
   },
   "outputs": [
    {
     "data": {
      "image/png": "[encoded data removed]",
      "text/plain": [
       "<Figure size 640x480 with 1 Axes>"
      ]
     },
     "metadata": {},
     "output_type": "display_data"
    }
   ],
   "source": [
    "#Get the top 10 brands \n",
    "top_brands = df['Brand'].value_counts().index[:10] \n",
    "counts = df['Brand'].value_counts().values[:10] \n",
    "# Set the style \n",
    "sns.set_style(\"darkgrid\") \n",
    "# Create the bar plot using Seaborn \n",
    "ax = sns.barplot(x=top_brands, y=counts, palette=\"muted\") \n",
    "# Set the x-tick labels to be rotated and aligned properly \n",
    "ax.set_xticklabels(ax.get_xticklabels(), rotation=45, ha='right') \n",
    "# Add value labels on the bars \n",
    "for i, v in enumerate(counts): \n",
    "    ax.text(i, v+5, str(v), color='black', ha='center') \n",
    "# Set the axis labels and title \n",
    "ax.set(xlabel='Brand', ylabel='Count', title='Top 10 Brands') \n",
    "# Display the plot \n",
    "plt.show() \n"
   ]
  },
  {
   "cell_type": "code",
   "execution_count": 68,
   "id": "ade5b3f1-3ad0-487b-ac72-54f8f5263cc1",
   "metadata": {
    "tags": []
   },
   "outputs": [
    {
     "data": {
      "image/png": "[encoded data removed]",
      "text/plain": [
       "<Figure size 1000x600 with 1 Axes>"
      ]
     },
     "metadata": {},
     "output_type": "display_data"
    }
   ],
   "source": [
    "# Set the plot style \n",
    "sns.set_style('whitegrid') \n",
    "# Get the top 10 operating systems \n",
    "top_os = df['Operating System'].value_counts().index[:10] \n",
    "os_counts = df['Operating System'].value_counts().values[:10] \n",
    "# Create the bar plot \n",
    "fig, ax = plt.subplots(figsize=(10, 6)) \n",
    "ax = sns.barplot(x=top_os, y=os_counts, palette='magma') \n",
    "# Set the axis labels and title \n",
    "ax.set(xlabel='operating System', ylabel='Count', title='Top 10 operating Systems') \n",
    "# Rotate x-axis tick labels \n",
    "plt.xticks(rotation=45, ha='right') \n",
    "# Add labels to the bars \n",
    "for i, v in enumerate(os_counts): \n",
    "    ax.text(i, v+5, str(v), color='black', ha='center') \n",
    "# Display the plot \n",
    "plt.show() "
   ]
  },
  {
   "cell_type": "code",
   "execution_count": 77,
   "id": "36f07c68-82a5-4729-833c-ce27cad60460",
   "metadata": {
    "tags": []
   },
   "outputs": [
    {
     "data": {
      "image/png": "[encoded data removed]",
      "text/plain": [
       "<Figure size 640x480 with 1 Axes>"
      ]
     },
     "metadata": {},
     "output_type": "display_data"
    }
   ],
   "source": [
    "# Filter the top 8 operating systems by frequency count \n",
    "top_operating_systems = df['Operating System'].value_counts().head(8).index.tolist() \n",
    "data_top_operating_systems = df[df['Operating System'].isin(top_operating_systems)] \n",
    "# Set the plot style \n",
    "sns.set_style('whitegrid') \n",
    "# Create the line plot \n",
    "sns.lineplot(x='Operating System', y='Battery Life', data=data_top_operating_systems) \n",
    "# Set the axis labels and title \n",
    "plt.xlabel('Operating System') \n",
    "plt.ylabel('Battery Life') \n",
    "plt.title('Battery Life Across Top 8 Operating Systems') \n",
    "# Align x-axis labels \n",
    "plt.xticks(rotation=45, ha='right') \n",
    "# Display the plotl \n",
    "plt.show() \n"
   ]
  },
  {
   "cell_type": "code",
   "execution_count": 80,
   "id": "36b07714-aa17-4b70-b4b2-4a229b473623",
   "metadata": {
    "tags": []
   },
   "outputs": [
    {
     "data": {
      "image/png": "[encoded data removed]",
      "text/plain": [
       "<Figure size 1200x600 with 2 Axes>"
      ]
     },
     "metadata": {},
     "output_type": "display_data"
    }
   ],
   "source": [
    "# Calculate total sales for each brand \n",
    "total_sales = df.groupby('Brand')['Price'].sum().reset_index() \n",
    "# Sort the brands by total sales in descending order \n",
    "top_brands = total_sales.sort_values('Price', ascending=False).head(5) \n",
    "# Calculate the percentage of sales for each brand \n",
    "top_brands['Percent'] = top_brands['Price'] / top_brands['Price'].sum() * 100 \n",
    "# Create a grid with two subplots \n",
    "fig, axes = plt.subplots(nrows=1, ncols=2, figsize=(12,6)) \n",
    "# Plot a bar chart for total sales by brand \n",
    "sns.barplot(x='Brand', y='Price', data=top_brands, palette='Set3', ax=axes[0]) \n",
    "axes[0].set_xlabel('Brand') \n",
    "axes[0].set_ylabel('Total Sales ($)') \n",
    "axes[0].set_title('Total Sales by Top 5 Brands') \n",
    "# Plot a pie chart for percentage of sales by brand \n",
    "colors = sns.color_palette('Set3', top_brands.shape[0]).as_hex() \n",
    "axes[1].pie(top_brands['Percent'], labels=top_brands['Brand'], colors=colors, autopct=\"%1.1f=\", shadow=True) \n",
    "axes[1].set_title('Percentage of Sales by Top 5 Brands') \n",
    "# Adjust spacing between subplots \n",
    "fig.tight_layout() \n",
    "# Show the plot \n",
    "plt.show()"
   ]
  },
  {
   "cell_type": "code",
   "execution_count": 81,
   "id": "69c9ab32-cd9e-4900-9fbe-a379e66b71df",
   "metadata": {
    "tags": []
   },
   "outputs": [
    {
     "data": {
      "text/html": [
       "<div>\n",
       "<style scoped>\n",
       "    .dataframe tbody tr th:only-of-type {\n",
       "        vertical-align: middle;\n",
       "    }\n",
       "\n",
       "    .dataframe tbody tr th {\n",
       "        vertical-align: top;\n",
       "    }\n",
       "\n",
       "    .dataframe thead th {\n",
       "        text-align: right;\n",
       "    }\n",
       "</style>\n",
       "<table border=\"1\" class=\"dataframe\">\n",
       "  <thead>\n",
       "    <tr style=\"text-align: right;\">\n",
       "      <th></th>\n",
       "      <th>Brand</th>\n",
       "      <th>Model</th>\n",
       "      <th>Operating System</th>\n",
       "      <th>Connectivity</th>\n",
       "      <th>Display Type</th>\n",
       "      <th>Display Size</th>\n",
       "      <th>Resolution</th>\n",
       "      <th>Water Resistance</th>\n",
       "      <th>Battery Life</th>\n",
       "      <th>Heart Rate Monitor</th>\n",
       "      <th>GPS</th>\n",
       "      <th>NFC</th>\n",
       "    </tr>\n",
       "  </thead>\n",
       "  <tbody>\n",
       "    <tr>\n",
       "      <th>0</th>\n",
       "      <td>1</td>\n",
       "      <td>127</td>\n",
       "      <td>34</td>\n",
       "      <td>2</td>\n",
       "      <td>17</td>\n",
       "      <td>1.9</td>\n",
       "      <td>27</td>\n",
       "      <td>50.0</td>\n",
       "      <td>18.0</td>\n",
       "      <td>0</td>\n",
       "      <td>1</td>\n",
       "      <td>1</td>\n",
       "    </tr>\n",
       "    <tr>\n",
       "      <th>1</th>\n",
       "      <td>30</td>\n",
       "      <td>36</td>\n",
       "      <td>31</td>\n",
       "      <td>2</td>\n",
       "      <td>0</td>\n",
       "      <td>1.4</td>\n",
       "      <td>31</td>\n",
       "      <td>50.0</td>\n",
       "      <td>40.0</td>\n",
       "      <td>0</td>\n",
       "      <td>1</td>\n",
       "      <td>1</td>\n",
       "    </tr>\n",
       "    <tr>\n",
       "      <th>2</th>\n",
       "      <td>8</td>\n",
       "      <td>105</td>\n",
       "      <td>9</td>\n",
       "      <td>1</td>\n",
       "      <td>0</td>\n",
       "      <td>1.3</td>\n",
       "      <td>30</td>\n",
       "      <td>50.0</td>\n",
       "      <td>11.0</td>\n",
       "      <td>0</td>\n",
       "      <td>1</td>\n",
       "      <td>0</td>\n",
       "    </tr>\n",
       "    <tr>\n",
       "      <th>3</th>\n",
       "      <td>6</td>\n",
       "      <td>109</td>\n",
       "      <td>7</td>\n",
       "      <td>1</td>\n",
       "      <td>0</td>\n",
       "      <td>1.6</td>\n",
       "      <td>19</td>\n",
       "      <td>50.0</td>\n",
       "      <td>6.0</td>\n",
       "      <td>0</td>\n",
       "      <td>1</td>\n",
       "      <td>1</td>\n",
       "    </tr>\n",
       "    <tr>\n",
       "      <th>4</th>\n",
       "      <td>7</td>\n",
       "      <td>43</td>\n",
       "      <td>31</td>\n",
       "      <td>1</td>\n",
       "      <td>0</td>\n",
       "      <td>1.3</td>\n",
       "      <td>30</td>\n",
       "      <td>30.0</td>\n",
       "      <td>24.0</td>\n",
       "      <td>0</td>\n",
       "      <td>1</td>\n",
       "      <td>1</td>\n",
       "    </tr>\n",
       "    <tr>\n",
       "      <th>...</th>\n",
       "      <td>...</td>\n",
       "      <td>...</td>\n",
       "      <td>...</td>\n",
       "      <td>...</td>\n",
       "      <td>...</td>\n",
       "      <td>...</td>\n",
       "      <td>...</td>\n",
       "      <td>...</td>\n",
       "      <td>...</td>\n",
       "      <td>...</td>\n",
       "      <td>...</td>\n",
       "      <td>...</td>\n",
       "    </tr>\n",
       "    <tr>\n",
       "      <th>374</th>\n",
       "      <td>38</td>\n",
       "      <td>79</td>\n",
       "      <td>32</td>\n",
       "      <td>1</td>\n",
       "      <td>16</td>\n",
       "      <td>1.4</td>\n",
       "      <td>21</td>\n",
       "      <td>50.0</td>\n",
       "      <td>30.0</td>\n",
       "      <td>0</td>\n",
       "      <td>0</td>\n",
       "      <td>1</td>\n",
       "    </tr>\n",
       "    <tr>\n",
       "      <th>375</th>\n",
       "      <td>41</td>\n",
       "      <td>132</td>\n",
       "      <td>33</td>\n",
       "      <td>2</td>\n",
       "      <td>0</td>\n",
       "      <td>1.4</td>\n",
       "      <td>32</td>\n",
       "      <td>50.0</td>\n",
       "      <td>15.0</td>\n",
       "      <td>0</td>\n",
       "      <td>1</td>\n",
       "      <td>1</td>\n",
       "    </tr>\n",
       "    <tr>\n",
       "      <th>376</th>\n",
       "      <td>9</td>\n",
       "      <td>119</td>\n",
       "      <td>12</td>\n",
       "      <td>1</td>\n",
       "      <td>0</td>\n",
       "      <td>1.4</td>\n",
       "      <td>32</td>\n",
       "      <td>50.0</td>\n",
       "      <td>25.0</td>\n",
       "      <td>0</td>\n",
       "      <td>1</td>\n",
       "      <td>1</td>\n",
       "    </tr>\n",
       "    <tr>\n",
       "      <th>377</th>\n",
       "      <td>26</td>\n",
       "      <td>118</td>\n",
       "      <td>5</td>\n",
       "      <td>1</td>\n",
       "      <td>0</td>\n",
       "      <td>1.6</td>\n",
       "      <td>17</td>\n",
       "      <td>50.0</td>\n",
       "      <td>14.0</td>\n",
       "      <td>0</td>\n",
       "      <td>0</td>\n",
       "      <td>1</td>\n",
       "    </tr>\n",
       "    <tr>\n",
       "      <th>378</th>\n",
       "      <td>35</td>\n",
       "      <td>71</td>\n",
       "      <td>31</td>\n",
       "      <td>2</td>\n",
       "      <td>0</td>\n",
       "      <td>1.4</td>\n",
       "      <td>32</td>\n",
       "      <td>50.0</td>\n",
       "      <td>72.0</td>\n",
       "      <td>0</td>\n",
       "      <td>1</td>\n",
       "      <td>1</td>\n",
       "    </tr>\n",
       "  </tbody>\n",
       "</table>\n",
       "<p>379 rows × 12 columns</p>\n",
       "</div>"
      ],
      "text/plain": [
       "     Brand  Model  Operating System  Connectivity  Display Type  Display Size  \\\n",
       "0        1    127                34             2            17           1.9   \n",
       "1       30     36                31             2             0           1.4   \n",
       "2        8    105                 9             1             0           1.3   \n",
       "3        6    109                 7             1             0           1.6   \n",
       "4        7     43                31             1             0           1.3   \n",
       "..     ...    ...               ...           ...           ...           ...   \n",
       "374     38     79                32             1            16           1.4   \n",
       "375     41    132                33             2             0           1.4   \n",
       "376      9    119                12             1             0           1.4   \n",
       "377     26    118                 5             1             0           1.6   \n",
       "378     35     71                31             2             0           1.4   \n",
       "\n",
       "     Resolution  Water Resistance  Battery Life  Heart Rate Monitor  GPS  NFC  \n",
       "0            27              50.0          18.0                   0    1    1  \n",
       "1            31              50.0          40.0                   0    1    1  \n",
       "2            30              50.0          11.0                   0    1    0  \n",
       "3            19              50.0           6.0                   0    1    1  \n",
       "4            30              30.0          24.0                   0    1    1  \n",
       "..          ...               ...           ...                 ...  ...  ...  \n",
       "374          21              50.0          30.0                   0    0    1  \n",
       "375          32              50.0          15.0                   0    1    1  \n",
       "376          32              50.0          25.0                   0    1    1  \n",
       "377          17              50.0          14.0                   0    0    1  \n",
       "378          32              50.0          72.0                   0    1    1  \n",
       "\n",
       "[379 rows x 12 columns]"
      ]
     },
     "execution_count": 81,
     "metadata": {},
     "output_type": "execute_result"
    }
   ],
   "source": [
    "X=df.drop(['Price'],axis=1)\n",
    "X"
   ]
  },
  {
   "cell_type": "code",
   "execution_count": 82,
   "id": "4c60be4f-9b4c-4a35-892f-13d721b8670c",
   "metadata": {
    "tags": []
   },
   "outputs": [
    {
     "data": {
      "text/plain": [
       "0      23\n",
       "1      12\n",
       "2      23\n",
       "3      10\n",
       "4      23\n",
       "       ..\n",
       "374    18\n",
       "375    12\n",
       "376    12\n",
       "377    15\n",
       "378    23\n",
       "Name: Price, Length: 379, dtype: int32"
      ]
     },
     "execution_count": 82,
     "metadata": {},
     "output_type": "execute_result"
    }
   ],
   "source": [
    "y = df['Price']\n",
    "y"
   ]
  },
  {
   "cell_type": "code",
   "execution_count": 83,
   "id": "44b43a94-c660-4400-a6a2-c7ed1630067f",
   "metadata": {
    "tags": []
   },
   "outputs": [
    {
     "name": "stdout",
     "output_type": "stream",
     "text": [
      "(303, 12)\n",
      "(76, 12)\n",
      "(303,)\n",
      "(303,)\n"
     ]
    }
   ],
   "source": [
    "X_train,X_test,y_train,y_test=train_test_split(X,y,test_size=0.20,random_state=25)\n",
    "print(X_train.shape)\n",
    "print(X_test.shape)\n",
    "print(y_train.shape)\n",
    "print(y_train.shape)"
   ]
  },
  {
   "cell_type": "code",
   "execution_count": 84,
   "id": "657d15a8-5dba-4bfc-b50c-12acf3034a15",
   "metadata": {
    "tags": []
   },
   "outputs": [
    {
     "data": {
      "text/html": [
       "<style>#sk-container-id-1 {color: black;}#sk-container-id-1 pre{padding: 0;}#sk-container-id-1 div.sk-toggleable {background-color: white;}#sk-container-id-1 label.sk-toggleable__label {cursor: pointer;display: block;width: 100%;margin-bottom: 0;padding: 0.3em;box-sizing: border-box;text-align: center;}#sk-container-id-1 label.sk-toggleable__label-arrow:before {content: \"▸\";float: left;margin-right: 0.25em;color: #696969;}#sk-container-id-1 label.sk-toggleable__label-arrow:hover:before {color: black;}#sk-container-id-1 div.sk-estimator:hover label.sk-toggleable__label-arrow:before {color: black;}#sk-container-id-1 div.sk-toggleable__content {max-height: 0;max-width: 0;overflow: hidden;text-align: left;background-color: #f0f8ff;}#sk-container-id-1 div.sk-toggleable__content pre {margin: 0.2em;color: black;border-radius: 0.25em;background-color: #f0f8ff;}#sk-container-id-1 input.sk-toggleable__control:checked~div.sk-toggleable__content {max-height: 200px;max-width: 100%;overflow: auto;}#sk-container-id-1 input.sk-toggleable__control:checked~label.sk-toggleable__label-arrow:before {content: \"▾\";}#sk-container-id-1 div.sk-estimator input.sk-toggleable__control:checked~label.sk-toggleable__label {background-color: #d4ebff;}#sk-container-id-1 div.sk-label input.sk-toggleable__control:checked~label.sk-toggleable__label {background-color: #d4ebff;}#sk-container-id-1 input.sk-hidden--visually {border: 0;clip: rect(1px 1px 1px 1px);clip: rect(1px, 1px, 1px, 1px);height: 1px;margin: -1px;overflow: hidden;padding: 0;position: absolute;width: 1px;}#sk-container-id-1 div.sk-estimator {font-family: monospace;background-color: #f0f8ff;border: 1px dotted black;border-radius: 0.25em;box-sizing: border-box;margin-bottom: 0.5em;}#sk-container-id-1 div.sk-estimator:hover {background-color: #d4ebff;}#sk-container-id-1 div.sk-parallel-item::after {content: \"\";width: 100%;border-bottom: 1px solid gray;flex-grow: 1;}#sk-container-id-1 div.sk-label:hover label.sk-toggleable__label {background-color: #d4ebff;}#sk-container-id-1 div.sk-serial::before {content: \"\";position: absolute;border-left: 1px solid gray;box-sizing: border-box;top: 0;bottom: 0;left: 50%;z-index: 0;}#sk-container-id-1 div.sk-serial {display: flex;flex-direction: column;align-items: center;background-color: white;padding-right: 0.2em;padding-left: 0.2em;position: relative;}#sk-container-id-1 div.sk-item {position: relative;z-index: 1;}#sk-container-id-1 div.sk-parallel {display: flex;align-items: stretch;justify-content: center;background-color: white;position: relative;}#sk-container-id-1 div.sk-item::before, #sk-container-id-1 div.sk-parallel-item::before {content: \"\";position: absolute;border-left: 1px solid gray;box-sizing: border-box;top: 0;bottom: 0;left: 50%;z-index: -1;}#sk-container-id-1 div.sk-parallel-item {display: flex;flex-direction: column;z-index: 1;position: relative;background-color: white;}#sk-container-id-1 div.sk-parallel-item:first-child::after {align-self: flex-end;width: 50%;}#sk-container-id-1 div.sk-parallel-item:last-child::after {align-self: flex-start;width: 50%;}#sk-container-id-1 div.sk-parallel-item:only-child::after {width: 0;}#sk-container-id-1 div.sk-dashed-wrapped {border: 1px dashed gray;margin: 0 0.4em 0.5em 0.4em;box-sizing: border-box;padding-bottom: 0.4em;background-color: white;}#sk-container-id-1 div.sk-label label {font-family: monospace;font-weight: bold;display: inline-block;line-height: 1.2em;}#sk-container-id-1 div.sk-label-container {text-align: center;}#sk-container-id-1 div.sk-container {/* jupyter's `normalize.less` sets `[hidden] { display: none; }` but bootstrap.min.css set `[hidden] { display: none !important; }` so we also need the `!important` here to be able to override the default hidden behavior on the sphinx rendered scikit-learn.org. See: https://github.com/scikit-learn/scikit-learn/issues/21755 */display: inline-block !important;position: relative;}#sk-container-id-1 div.sk-text-repr-fallback {display: none;}</style><div id=\"sk-container-id-1\" class=\"sk-top-container\"><div class=\"sk-text-repr-fallback\"><pre>LinearRegression()</pre><b>In a Jupyter environment, please rerun this cell to show the HTML representation or trust the notebook. <br />On GitHub, the HTML representation is unable to render, please try loading this page with nbviewer.org.</b></div><div class=\"sk-container\" hidden><div class=\"sk-item\"><div class=\"sk-estimator sk-toggleable\"><input class=\"sk-toggleable__control sk-hidden--visually\" id=\"sk-estimator-id-1\" type=\"checkbox\" checked><label for=\"sk-estimator-id-1\" class=\"sk-toggleable__label sk-toggleable__label-arrow\">LinearRegression</label><div class=\"sk-toggleable__content\"><pre>LinearRegression()</pre></div></div></div></div></div>"
      ],
      "text/plain": [
       "LinearRegression()"
      ]
     },
     "execution_count": 84,
     "metadata": {},
     "output_type": "execute_result"
    }
   ],
   "source": [
    "lr=LinearRegression()\n",
    "lr.fit(X_train,y_train)\n"
   ]
  },
  {
   "cell_type": "code",
   "execution_count": 85,
   "id": "1b99f086-12cc-4a76-b5a2-be38bcaddcaf",
   "metadata": {
    "tags": []
   },
   "outputs": [
    {
     "data": {
      "text/html": [
       "<style>#sk-container-id-2 {color: black;}#sk-container-id-2 pre{padding: 0;}#sk-container-id-2 div.sk-toggleable {background-color: white;}#sk-container-id-2 label.sk-toggleable__label {cursor: pointer;display: block;width: 100%;margin-bottom: 0;padding: 0.3em;box-sizing: border-box;text-align: center;}#sk-container-id-2 label.sk-toggleable__label-arrow:before {content: \"▸\";float: left;margin-right: 0.25em;color: #696969;}#sk-container-id-2 label.sk-toggleable__label-arrow:hover:before {color: black;}#sk-container-id-2 div.sk-estimator:hover label.sk-toggleable__label-arrow:before {color: black;}#sk-container-id-2 div.sk-toggleable__content {max-height: 0;max-width: 0;overflow: hidden;text-align: left;background-color: #f0f8ff;}#sk-container-id-2 div.sk-toggleable__content pre {margin: 0.2em;color: black;border-radius: 0.25em;background-color: #f0f8ff;}#sk-container-id-2 input.sk-toggleable__control:checked~div.sk-toggleable__content {max-height: 200px;max-width: 100%;overflow: auto;}#sk-container-id-2 input.sk-toggleable__control:checked~label.sk-toggleable__label-arrow:before {content: \"▾\";}#sk-container-id-2 div.sk-estimator input.sk-toggleable__control:checked~label.sk-toggleable__label {background-color: #d4ebff;}#sk-container-id-2 div.sk-label input.sk-toggleable__control:checked~label.sk-toggleable__label {background-color: #d4ebff;}#sk-container-id-2 input.sk-hidden--visually {border: 0;clip: rect(1px 1px 1px 1px);clip: rect(1px, 1px, 1px, 1px);height: 1px;margin: -1px;overflow: hidden;padding: 0;position: absolute;width: 1px;}#sk-container-id-2 div.sk-estimator {font-family: monospace;background-color: #f0f8ff;border: 1px dotted black;border-radius: 0.25em;box-sizing: border-box;margin-bottom: 0.5em;}#sk-container-id-2 div.sk-estimator:hover {background-color: #d4ebff;}#sk-container-id-2 div.sk-parallel-item::after {content: \"\";width: 100%;border-bottom: 1px solid gray;flex-grow: 1;}#sk-container-id-2 div.sk-label:hover label.sk-toggleable__label {background-color: #d4ebff;}#sk-container-id-2 div.sk-serial::before {content: \"\";position: absolute;border-left: 1px solid gray;box-sizing: border-box;top: 0;bottom: 0;left: 50%;z-index: 0;}#sk-container-id-2 div.sk-serial {display: flex;flex-direction: column;align-items: center;background-color: white;padding-right: 0.2em;padding-left: 0.2em;position: relative;}#sk-container-id-2 div.sk-item {position: relative;z-index: 1;}#sk-container-id-2 div.sk-parallel {display: flex;align-items: stretch;justify-content: center;background-color: white;position: relative;}#sk-container-id-2 div.sk-item::before, #sk-container-id-2 div.sk-parallel-item::before {content: \"\";position: absolute;border-left: 1px solid gray;box-sizing: border-box;top: 0;bottom: 0;left: 50%;z-index: -1;}#sk-container-id-2 div.sk-parallel-item {display: flex;flex-direction: column;z-index: 1;position: relative;background-color: white;}#sk-container-id-2 div.sk-parallel-item:first-child::after {align-self: flex-end;width: 50%;}#sk-container-id-2 div.sk-parallel-item:last-child::after {align-self: flex-start;width: 50%;}#sk-container-id-2 div.sk-parallel-item:only-child::after {width: 0;}#sk-container-id-2 div.sk-dashed-wrapped {border: 1px dashed gray;margin: 0 0.4em 0.5em 0.4em;box-sizing: border-box;padding-bottom: 0.4em;background-color: white;}#sk-container-id-2 div.sk-label label {font-family: monospace;font-weight: bold;display: inline-block;line-height: 1.2em;}#sk-container-id-2 div.sk-label-container {text-align: center;}#sk-container-id-2 div.sk-container {/* jupyter's `normalize.less` sets `[hidden] { display: none; }` but bootstrap.min.css set `[hidden] { display: none !important; }` so we also need the `!important` here to be able to override the default hidden behavior on the sphinx rendered scikit-learn.org. See: https://github.com/scikit-learn/scikit-learn/issues/21755 */display: inline-block !important;position: relative;}#sk-container-id-2 div.sk-text-repr-fallback {display: none;}</style><div id=\"sk-container-id-2\" class=\"sk-top-container\"><div class=\"sk-text-repr-fallback\"><pre>DecisionTreeRegressor(max_depth=2, min_samples_leaf=5, min_samples_split=6)</pre><b>In a Jupyter environment, please rerun this cell to show the HTML representation or trust the notebook. <br />On GitHub, the HTML representation is unable to render, please try loading this page with nbviewer.org.</b></div><div class=\"sk-container\" hidden><div class=\"sk-item\"><div class=\"sk-estimator sk-toggleable\"><input class=\"sk-toggleable__control sk-hidden--visually\" id=\"sk-estimator-id-2\" type=\"checkbox\" checked><label for=\"sk-estimator-id-2\" class=\"sk-toggleable__label sk-toggleable__label-arrow\">DecisionTreeRegressor</label><div class=\"sk-toggleable__content\"><pre>DecisionTreeRegressor(max_depth=2, min_samples_leaf=5, min_samples_split=6)</pre></div></div></div></div></div>"
      ],
      "text/plain": [
       "DecisionTreeRegressor(max_depth=2, min_samples_leaf=5, min_samples_split=6)"
      ]
     },
     "execution_count": 85,
     "metadata": {},
     "output_type": "execute_result"
    }
   ],
   "source": [
    "dtr = DecisionTreeRegressor(max_depth=2,min_samples_split=6,min_samples_leaf=5)\n",
    "dtr.fit(X_train,y_train)\n"
   ]
  },
  {
   "cell_type": "code",
   "execution_count": 86,
   "id": "1e8338c3-2a35-46b5-825c-669862ad4148",
   "metadata": {
    "tags": []
   },
   "outputs": [
    {
     "data": {
      "text/html": [
       "<style>#sk-container-id-3 {color: black;}#sk-container-id-3 pre{padding: 0;}#sk-container-id-3 div.sk-toggleable {background-color: white;}#sk-container-id-3 label.sk-toggleable__label {cursor: pointer;display: block;width: 100%;margin-bottom: 0;padding: 0.3em;box-sizing: border-box;text-align: center;}#sk-container-id-3 label.sk-toggleable__label-arrow:before {content: \"▸\";float: left;margin-right: 0.25em;color: #696969;}#sk-container-id-3 label.sk-toggleable__label-arrow:hover:before {color: black;}#sk-container-id-3 div.sk-estimator:hover label.sk-toggleable__label-arrow:before {color: black;}#sk-container-id-3 div.sk-toggleable__content {max-height: 0;max-width: 0;overflow: hidden;text-align: left;background-color: #f0f8ff;}#sk-container-id-3 div.sk-toggleable__content pre {margin: 0.2em;color: black;border-radius: 0.25em;background-color: #f0f8ff;}#sk-container-id-3 input.sk-toggleable__control:checked~div.sk-toggleable__content {max-height: 200px;max-width: 100%;overflow: auto;}#sk-container-id-3 input.sk-toggleable__control:checked~label.sk-toggleable__label-arrow:before {content: \"▾\";}#sk-container-id-3 div.sk-estimator input.sk-toggleable__control:checked~label.sk-toggleable__label {background-color: #d4ebff;}#sk-container-id-3 div.sk-label input.sk-toggleable__control:checked~label.sk-toggleable__label {background-color: #d4ebff;}#sk-container-id-3 input.sk-hidden--visually {border: 0;clip: rect(1px 1px 1px 1px);clip: rect(1px, 1px, 1px, 1px);height: 1px;margin: -1px;overflow: hidden;padding: 0;position: absolute;width: 1px;}#sk-container-id-3 div.sk-estimator {font-family: monospace;background-color: #f0f8ff;border: 1px dotted black;border-radius: 0.25em;box-sizing: border-box;margin-bottom: 0.5em;}#sk-container-id-3 div.sk-estimator:hover {background-color: #d4ebff;}#sk-container-id-3 div.sk-parallel-item::after {content: \"\";width: 100%;border-bottom: 1px solid gray;flex-grow: 1;}#sk-container-id-3 div.sk-label:hover label.sk-toggleable__label {background-color: #d4ebff;}#sk-container-id-3 div.sk-serial::before {content: \"\";position: absolute;border-left: 1px solid gray;box-sizing: border-box;top: 0;bottom: 0;left: 50%;z-index: 0;}#sk-container-id-3 div.sk-serial {display: flex;flex-direction: column;align-items: center;background-color: white;padding-right: 0.2em;padding-left: 0.2em;position: relative;}#sk-container-id-3 div.sk-item {position: relative;z-index: 1;}#sk-container-id-3 div.sk-parallel {display: flex;align-items: stretch;justify-content: center;background-color: white;position: relative;}#sk-container-id-3 div.sk-item::before, #sk-container-id-3 div.sk-parallel-item::before {content: \"\";position: absolute;border-left: 1px solid gray;box-sizing: border-box;top: 0;bottom: 0;left: 50%;z-index: -1;}#sk-container-id-3 div.sk-parallel-item {display: flex;flex-direction: column;z-index: 1;position: relative;background-color: white;}#sk-container-id-3 div.sk-parallel-item:first-child::after {align-self: flex-end;width: 50%;}#sk-container-id-3 div.sk-parallel-item:last-child::after {align-self: flex-start;width: 50%;}#sk-container-id-3 div.sk-parallel-item:only-child::after {width: 0;}#sk-container-id-3 div.sk-dashed-wrapped {border: 1px dashed gray;margin: 0 0.4em 0.5em 0.4em;box-sizing: border-box;padding-bottom: 0.4em;background-color: white;}#sk-container-id-3 div.sk-label label {font-family: monospace;font-weight: bold;display: inline-block;line-height: 1.2em;}#sk-container-id-3 div.sk-label-container {text-align: center;}#sk-container-id-3 div.sk-container {/* jupyter's `normalize.less` sets `[hidden] { display: none; }` but bootstrap.min.css set `[hidden] { display: none !important; }` so we also need the `!important` here to be able to override the default hidden behavior on the sphinx rendered scikit-learn.org. See: https://github.com/scikit-learn/scikit-learn/issues/21755 */display: inline-block !important;position: relative;}#sk-container-id-3 div.sk-text-repr-fallback {display: none;}</style><div id=\"sk-container-id-3\" class=\"sk-top-container\"><div class=\"sk-text-repr-fallback\"><pre>RandomForestRegressor(max_depth=8, max_features=0.8,\n",
       "                      min_weight_fraction_leaf=0.05, n_estimators=50,\n",
       "                      random_state=1)</pre><b>In a Jupyter environment, please rerun this cell to show the HTML representation or trust the notebook. <br />On GitHub, the HTML representation is unable to render, please try loading this page with nbviewer.org.</b></div><div class=\"sk-container\" hidden><div class=\"sk-item\"><div class=\"sk-estimator sk-toggleable\"><input class=\"sk-toggleable__control sk-hidden--visually\" id=\"sk-estimator-id-3\" type=\"checkbox\" checked><label for=\"sk-estimator-id-3\" class=\"sk-toggleable__label sk-toggleable__label-arrow\">RandomForestRegressor</label><div class=\"sk-toggleable__content\"><pre>RandomForestRegressor(max_depth=8, max_features=0.8,\n",
       "                      min_weight_fraction_leaf=0.05, n_estimators=50,\n",
       "                      random_state=1)</pre></div></div></div></div></div>"
      ],
      "text/plain": [
       "RandomForestRegressor(max_depth=8, max_features=0.8,\n",
       "                      min_weight_fraction_leaf=0.05, n_estimators=50,\n",
       "                      random_state=1)"
      ]
     },
     "execution_count": 86,
     "metadata": {},
     "output_type": "execute_result"
    }
   ],
   "source": [
    "rfr = RandomForestRegressor(n_estimators=50,max_depth=8,min_weight_fraction_leaf=0.05,\n",
    "max_features = 0.8,random_state=1)\n",
    "rfr.fit(X_train,y_train)\n"
   ]
  },
  {
   "cell_type": "code",
   "execution_count": 87,
   "id": "8352e578-5e0d-486b-85b4-29cb0165815b",
   "metadata": {
    "tags": []
   },
   "outputs": [
    {
     "data": {
      "text/html": [
       "<style>#sk-container-id-4 {color: black;}#sk-container-id-4 pre{padding: 0;}#sk-container-id-4 div.sk-toggleable {background-color: white;}#sk-container-id-4 label.sk-toggleable__label {cursor: pointer;display: block;width: 100%;margin-bottom: 0;padding: 0.3em;box-sizing: border-box;text-align: center;}#sk-container-id-4 label.sk-toggleable__label-arrow:before {content: \"▸\";float: left;margin-right: 0.25em;color: #696969;}#sk-container-id-4 label.sk-toggleable__label-arrow:hover:before {color: black;}#sk-container-id-4 div.sk-estimator:hover label.sk-toggleable__label-arrow:before {color: black;}#sk-container-id-4 div.sk-toggleable__content {max-height: 0;max-width: 0;overflow: hidden;text-align: left;background-color: #f0f8ff;}#sk-container-id-4 div.sk-toggleable__content pre {margin: 0.2em;color: black;border-radius: 0.25em;background-color: #f0f8ff;}#sk-container-id-4 input.sk-toggleable__control:checked~div.sk-toggleable__content {max-height: 200px;max-width: 100%;overflow: auto;}#sk-container-id-4 input.sk-toggleable__control:checked~label.sk-toggleable__label-arrow:before {content: \"▾\";}#sk-container-id-4 div.sk-estimator input.sk-toggleable__control:checked~label.sk-toggleable__label {background-color: #d4ebff;}#sk-container-id-4 div.sk-label input.sk-toggleable__control:checked~label.sk-toggleable__label {background-color: #d4ebff;}#sk-container-id-4 input.sk-hidden--visually {border: 0;clip: rect(1px 1px 1px 1px);clip: rect(1px, 1px, 1px, 1px);height: 1px;margin: -1px;overflow: hidden;padding: 0;position: absolute;width: 1px;}#sk-container-id-4 div.sk-estimator {font-family: monospace;background-color: #f0f8ff;border: 1px dotted black;border-radius: 0.25em;box-sizing: border-box;margin-bottom: 0.5em;}#sk-container-id-4 div.sk-estimator:hover {background-color: #d4ebff;}#sk-container-id-4 div.sk-parallel-item::after {content: \"\";width: 100%;border-bottom: 1px solid gray;flex-grow: 1;}#sk-container-id-4 div.sk-label:hover label.sk-toggleable__label {background-color: #d4ebff;}#sk-container-id-4 div.sk-serial::before {content: \"\";position: absolute;border-left: 1px solid gray;box-sizing: border-box;top: 0;bottom: 0;left: 50%;z-index: 0;}#sk-container-id-4 div.sk-serial {display: flex;flex-direction: column;align-items: center;background-color: white;padding-right: 0.2em;padding-left: 0.2em;position: relative;}#sk-container-id-4 div.sk-item {position: relative;z-index: 1;}#sk-container-id-4 div.sk-parallel {display: flex;align-items: stretch;justify-content: center;background-color: white;position: relative;}#sk-container-id-4 div.sk-item::before, #sk-container-id-4 div.sk-parallel-item::before {content: \"\";position: absolute;border-left: 1px solid gray;box-sizing: border-box;top: 0;bottom: 0;left: 50%;z-index: -1;}#sk-container-id-4 div.sk-parallel-item {display: flex;flex-direction: column;z-index: 1;position: relative;background-color: white;}#sk-container-id-4 div.sk-parallel-item:first-child::after {align-self: flex-end;width: 50%;}#sk-container-id-4 div.sk-parallel-item:last-child::after {align-self: flex-start;width: 50%;}#sk-container-id-4 div.sk-parallel-item:only-child::after {width: 0;}#sk-container-id-4 div.sk-dashed-wrapped {border: 1px dashed gray;margin: 0 0.4em 0.5em 0.4em;box-sizing: border-box;padding-bottom: 0.4em;background-color: white;}#sk-container-id-4 div.sk-label label {font-family: monospace;font-weight: bold;display: inline-block;line-height: 1.2em;}#sk-container-id-4 div.sk-label-container {text-align: center;}#sk-container-id-4 div.sk-container {/* jupyter's `normalize.less` sets `[hidden] { display: none; }` but bootstrap.min.css set `[hidden] { display: none !important; }` so we also need the `!important` here to be able to override the default hidden behavior on the sphinx rendered scikit-learn.org. See: https://github.com/scikit-learn/scikit-learn/issues/21755 */display: inline-block !important;position: relative;}#sk-container-id-4 div.sk-text-repr-fallback {display: none;}</style><div id=\"sk-container-id-4\" class=\"sk-top-container\"><div class=\"sk-text-repr-fallback\"><pre>GradientBoostingRegressor(max_depth=1, random_state=42)</pre><b>In a Jupyter environment, please rerun this cell to show the HTML representation or trust the notebook. <br />On GitHub, the HTML representation is unable to render, please try loading this page with nbviewer.org.</b></div><div class=\"sk-container\" hidden><div class=\"sk-item\"><div class=\"sk-estimator sk-toggleable\"><input class=\"sk-toggleable__control sk-hidden--visually\" id=\"sk-estimator-id-4\" type=\"checkbox\" checked><label for=\"sk-estimator-id-4\" class=\"sk-toggleable__label sk-toggleable__label-arrow\">GradientBoostingRegressor</label><div class=\"sk-toggleable__content\"><pre>GradientBoostingRegressor(max_depth=1, random_state=42)</pre></div></div></div></div></div>"
      ],
      "text/plain": [
       "GradientBoostingRegressor(max_depth=1, random_state=42)"
      ]
     },
     "execution_count": 87,
     "metadata": {},
     "output_type": "execute_result"
    }
   ],
   "source": [
    "gbr = GradientBoostingRegressor(n_estimators=100,learning_rate=0.1,max_depth=1,\n",
    "random_state=42)\n",
    "gbr.fit(X_train,y_train)\n"
   ]
  },
  {
   "cell_type": "code",
   "execution_count": 90,
   "id": "29f4b4c4-4d88-41a4-914c-806fb2996c1e",
   "metadata": {
    "tags": []
   },
   "outputs": [
    {
     "data": {
      "text/html": [
       "<style>#sk-container-id-5 {color: black;}#sk-container-id-5 pre{padding: 0;}#sk-container-id-5 div.sk-toggleable {background-color: white;}#sk-container-id-5 label.sk-toggleable__label {cursor: pointer;display: block;width: 100%;margin-bottom: 0;padding: 0.3em;box-sizing: border-box;text-align: center;}#sk-container-id-5 label.sk-toggleable__label-arrow:before {content: \"▸\";float: left;margin-right: 0.25em;color: #696969;}#sk-container-id-5 label.sk-toggleable__label-arrow:hover:before {color: black;}#sk-container-id-5 div.sk-estimator:hover label.sk-toggleable__label-arrow:before {color: black;}#sk-container-id-5 div.sk-toggleable__content {max-height: 0;max-width: 0;overflow: hidden;text-align: left;background-color: #f0f8ff;}#sk-container-id-5 div.sk-toggleable__content pre {margin: 0.2em;color: black;border-radius: 0.25em;background-color: #f0f8ff;}#sk-container-id-5 input.sk-toggleable__control:checked~div.sk-toggleable__content {max-height: 200px;max-width: 100%;overflow: auto;}#sk-container-id-5 input.sk-toggleable__control:checked~label.sk-toggleable__label-arrow:before {content: \"▾\";}#sk-container-id-5 div.sk-estimator input.sk-toggleable__control:checked~label.sk-toggleable__label {background-color: #d4ebff;}#sk-container-id-5 div.sk-label input.sk-toggleable__control:checked~label.sk-toggleable__label {background-color: #d4ebff;}#sk-container-id-5 input.sk-hidden--visually {border: 0;clip: rect(1px 1px 1px 1px);clip: rect(1px, 1px, 1px, 1px);height: 1px;margin: -1px;overflow: hidden;padding: 0;position: absolute;width: 1px;}#sk-container-id-5 div.sk-estimator {font-family: monospace;background-color: #f0f8ff;border: 1px dotted black;border-radius: 0.25em;box-sizing: border-box;margin-bottom: 0.5em;}#sk-container-id-5 div.sk-estimator:hover {background-color: #d4ebff;}#sk-container-id-5 div.sk-parallel-item::after {content: \"\";width: 100%;border-bottom: 1px solid gray;flex-grow: 1;}#sk-container-id-5 div.sk-label:hover label.sk-toggleable__label {background-color: #d4ebff;}#sk-container-id-5 div.sk-serial::before {content: \"\";position: absolute;border-left: 1px solid gray;box-sizing: border-box;top: 0;bottom: 0;left: 50%;z-index: 0;}#sk-container-id-5 div.sk-serial {display: flex;flex-direction: column;align-items: center;background-color: white;padding-right: 0.2em;padding-left: 0.2em;position: relative;}#sk-container-id-5 div.sk-item {position: relative;z-index: 1;}#sk-container-id-5 div.sk-parallel {display: flex;align-items: stretch;justify-content: center;background-color: white;position: relative;}#sk-container-id-5 div.sk-item::before, #sk-container-id-5 div.sk-parallel-item::before {content: \"\";position: absolute;border-left: 1px solid gray;box-sizing: border-box;top: 0;bottom: 0;left: 50%;z-index: -1;}#sk-container-id-5 div.sk-parallel-item {display: flex;flex-direction: column;z-index: 1;position: relative;background-color: white;}#sk-container-id-5 div.sk-parallel-item:first-child::after {align-self: flex-end;width: 50%;}#sk-container-id-5 div.sk-parallel-item:last-child::after {align-self: flex-start;width: 50%;}#sk-container-id-5 div.sk-parallel-item:only-child::after {width: 0;}#sk-container-id-5 div.sk-dashed-wrapped {border: 1px dashed gray;margin: 0 0.4em 0.5em 0.4em;box-sizing: border-box;padding-bottom: 0.4em;background-color: white;}#sk-container-id-5 div.sk-label label {font-family: monospace;font-weight: bold;display: inline-block;line-height: 1.2em;}#sk-container-id-5 div.sk-label-container {text-align: center;}#sk-container-id-5 div.sk-container {/* jupyter's `normalize.less` sets `[hidden] { display: none; }` but bootstrap.min.css set `[hidden] { display: none !important; }` so we also need the `!important` here to be able to override the default hidden behavior on the sphinx rendered scikit-learn.org. See: https://github.com/scikit-learn/scikit-learn/issues/21755 */display: inline-block !important;position: relative;}#sk-container-id-5 div.sk-text-repr-fallback {display: none;}</style><div id=\"sk-container-id-5\" class=\"sk-top-container\"><div class=\"sk-text-repr-fallback\"><pre>XGBRegressor(base_score=None, booster=None, callbacks=None,\n",
       "             colsample_bylevel=0.5, colsample_bynode=None, colsample_bytree=0.4,\n",
       "             device=None, early_stopping_rounds=None, enable_categorical=False,\n",
       "             eval_metric=None, feature_types=None, gamma=None, grow_policy=None,\n",
       "             importance_type=None, interaction_constraints=None,\n",
       "             learning_rate=0.06, max_bin=None, max_cat_threshold=None,\n",
       "             max_cat_to_onehot=None, max_delta_step=None, max_depth=2,\n",
       "             max_leaves=3, min_child_weight=None, missing=nan,\n",
       "             monotone_constraints=None, multi_strategy=None, n_estimators=1000,\n",
       "             n_jobs=None, num_parallel_tree=None, random_state=1, ...)</pre><b>In a Jupyter environment, please rerun this cell to show the HTML representation or trust the notebook. <br />On GitHub, the HTML representation is unable to render, please try loading this page with nbviewer.org.</b></div><div class=\"sk-container\" hidden><div class=\"sk-item\"><div class=\"sk-estimator sk-toggleable\"><input class=\"sk-toggleable__control sk-hidden--visually\" id=\"sk-estimator-id-5\" type=\"checkbox\" checked><label for=\"sk-estimator-id-5\" class=\"sk-toggleable__label sk-toggleable__label-arrow\">XGBRegressor</label><div class=\"sk-toggleable__content\"><pre>XGBRegressor(base_score=None, booster=None, callbacks=None,\n",
       "             colsample_bylevel=0.5, colsample_bynode=None, colsample_bytree=0.4,\n",
       "             device=None, early_stopping_rounds=None, enable_categorical=False,\n",
       "             eval_metric=None, feature_types=None, gamma=None, grow_policy=None,\n",
       "             importance_type=None, interaction_constraints=None,\n",
       "             learning_rate=0.06, max_bin=None, max_cat_threshold=None,\n",
       "             max_cat_to_onehot=None, max_delta_step=None, max_depth=2,\n",
       "             max_leaves=3, min_child_weight=None, missing=nan,\n",
       "             monotone_constraints=None, multi_strategy=None, n_estimators=1000,\n",
       "             n_jobs=None, num_parallel_tree=None, random_state=1, ...)</pre></div></div></div></div></div>"
      ],
      "text/plain": [
       "XGBRegressor(base_score=None, booster=None, callbacks=None,\n",
       "             colsample_bylevel=0.5, colsample_bynode=None, colsample_bytree=0.4,\n",
       "             device=None, early_stopping_rounds=None, enable_categorical=False,\n",
       "             eval_metric=None, feature_types=None, gamma=None, grow_policy=None,\n",
       "             importance_type=None, interaction_constraints=None,\n",
       "             learning_rate=0.06, max_bin=None, max_cat_threshold=None,\n",
       "             max_cat_to_onehot=None, max_delta_step=None, max_depth=2,\n",
       "             max_leaves=3, min_child_weight=None, missing=nan,\n",
       "             monotone_constraints=None, multi_strategy=None, n_estimators=1000,\n",
       "             n_jobs=None, num_parallel_tree=None, random_state=1, ...)"
      ]
     },
     "execution_count": 90,
     "metadata": {},
     "output_type": "execute_result"
    }
   ],
   "source": [
    "xgb = XGBRegressor(n_estimators=1000,learning_rate=0.06,max_depth=2,subsample=0.7,\n",
    "                 colsample_bytree=0.4,colsample_bylevel=0.5,max_leaves=3,random_state=1)\n",
    "xgb.fit(X_train,y_train)\n"
   ]
  },
  {
   "cell_type": "code",
   "execution_count": 93,
   "id": "152c73ea-8cd6-4325-8e48-15bcb711e452",
   "metadata": {
    "tags": []
   },
   "outputs": [
    {
     "name": "stdout",
     "output_type": "stream",
     "text": [
      "R2 error is:  0.07318947858808633\n",
      "Root Mean Squared Error: 5.398363197034341\n"
     ]
    }
   ],
   "source": [
    "predict_train=lr.predict(X_train)\n",
    "error_score_lr_train = r2_score(y_train,predict_train)\n",
    "print(\"R2 error is: \",error_score_lr_train)\n",
    "mse = mean_squared_error(y_train,predict_train)\n",
    "rmse_lr_train = np.sqrt(mse)\n",
    "print('Root Mean Squared Error:',rmse_lr_train)"
   ]
  },
  {
   "cell_type": "code",
   "execution_count": 95,
   "id": "03ed18de-8b61-4656-bdc7-7e06f00ed95d",
   "metadata": {
    "tags": []
   },
   "outputs": [
    {
     "name": "stdout",
     "output_type": "stream",
     "text": [
      "R2 error is:  -0.055895164637602024\n",
      "Root Mean Squared Error: 5.225245397000294\n"
     ]
    }
   ],
   "source": [
    "predict_test=lr.predict(X_test)\n",
    "error_score_lr_test= r2_score(y_test,predict_test)\n",
    "print(\"R2 error is: \",error_score_lr_test)\n",
    "mse = mean_squared_error(y_test,predict_test)\n",
    "rmse_lr_test = np.sqrt(mse)\n",
    "print('Root Mean Squared Error:',rmse_lr_test)"
   ]
  },
  {
   "cell_type": "code",
   "execution_count": 97,
   "id": "ca062c3d-fbe9-4458-8d49-c6fc1404e700",
   "metadata": {
    "tags": []
   },
   "outputs": [
    {
     "name": "stdout",
     "output_type": "stream",
     "text": [
      "R2 error is:  0.10232019019063776\n",
      "Root Mean Squared Error: 5.3128475126396735\n"
     ]
    }
   ],
   "source": [
    "predict_train_dtr = dtr.predict(X_train)\n",
    "error_score_dtr_train = r2_score(y_train,predict_train_dtr)\n",
    "print(\"R2 error is: \",error_score_dtr_train)\n",
    "mse = mean_squared_error(y_train,predict_train_dtr)\n",
    "rmse_dtr_train = np.sqrt(mse)\n",
    "print('Root Mean Squared Error:',rmse_dtr_train)\n"
   ]
  },
  {
   "cell_type": "code",
   "execution_count": 98,
   "id": "f793e4a4-91cd-4fb8-aa51-5c36e8bfc616",
   "metadata": {
    "tags": []
   },
   "outputs": [
    {
     "name": "stdout",
     "output_type": "stream",
     "text": [
      "R2 error is:  -0.0032509159289615397\n",
      "Root Mean Squared Error: 5.093321297554906\n"
     ]
    }
   ],
   "source": [
    "predict_test_dtr = dtr.predict(X_test)\n",
    "error_score_dtr_test = r2_score(y_test,predict_test_dtr)\n",
    "print(\"R2 error is: \",error_score_dtr_test)\n",
    "mse = mean_squared_error(y_test,predict_test_dtr)\n",
    "rmse_dtr_test = np.sqrt(mse)\n",
    "print('Root Mean Squared Error:',rmse_dtr_test)"
   ]
  },
  {
   "cell_type": "code",
   "execution_count": 99,
   "id": "aa107ab1-ae19-4ef0-85d5-406251183c06",
   "metadata": {
    "tags": []
   },
   "outputs": [
    {
     "name": "stdout",
     "output_type": "stream",
     "text": [
      "R2 error is:  0.36309091747262934\n",
      "Root Mean Squared Error: 4.475126781606901\n"
     ]
    }
   ],
   "source": [
    "predict_train_rfr = rfr.predict(X_train)\n",
    "error_score_rfr_train = r2_score(y_train,predict_train_rfr)\n",
    "print(\"R2 error is: \",error_score_rfr_train)\n",
    "mse = mean_squared_error(y_train,predict_train_rfr)\n",
    "rmse_rfr_train = np.sqrt(mse)\n",
    "print('Root Mean Squared Error:',rmse_rfr_train)"
   ]
  },
  {
   "cell_type": "code",
   "execution_count": 100,
   "id": "27c478a3-e58b-4999-b512-47443989ddc2",
   "metadata": {
    "tags": []
   },
   "outputs": [
    {
     "name": "stdout",
     "output_type": "stream",
     "text": [
      "R2 error is:  0.1505801055440198\n",
      "Root Mean Squared Error: 4.686595865463125\n"
     ]
    }
   ],
   "source": [
    "predict_test_rfr=rfr.predict(X_test)\n",
    "error_score_rfr_test = r2_score(y_test,predict_test_rfr)\n",
    "print(\"R2 error is: \",error_score_rfr_test)\n",
    "mse = mean_squared_error(y_test,predict_test_rfr)\n",
    "rmse_rfr_test = np.sqrt(mse)\n",
    "print('Root Mean Squared Error:',rmse_rfr_test)"
   ]
  },
  {
   "cell_type": "code",
   "execution_count": 101,
   "id": "8e60dc64-e25f-417f-8f7d-d410125bf4f3",
   "metadata": {
    "tags": []
   },
   "outputs": [
    {
     "name": "stdout",
     "output_type": "stream",
     "text": [
      "R2 error is:  0.23929412618283186\n",
      "Root Mean Squared Error: 4.8907448614684705\n"
     ]
    }
   ],
   "source": [
    "predict_train_gbr = gbr.predict(X_train)\n",
    "error_score_gbr_train = r2_score(y_train,predict_train_gbr)\n",
    "print(\"R2 error is: \",error_score_gbr_train)\n",
    "mse = mean_squared_error(y_train,predict_train_gbr)\n",
    "rmse_gbr_train = np.sqrt(mse)\n",
    "print('Root Mean Squared Error:',rmse_gbr_train)"
   ]
  },
  {
   "cell_type": "code",
   "execution_count": 102,
   "id": "efd2e01d-5d22-4c28-b09a-d3077e6d8ccf",
   "metadata": {
    "tags": []
   },
   "outputs": [
    {
     "name": "stdout",
     "output_type": "stream",
     "text": [
      "R2 error is:  0.03571004195805694\n",
      "Root Mean Squared Error: 4.993443184947734\n"
     ]
    }
   ],
   "source": [
    "predict_test_gbr = gbr.predict(X_test)\n",
    "error_score_gbr_test = r2_score(y_test,predict_test_gbr)\n",
    "print(\"R2 error is: \",error_score_gbr_test)\n",
    "mse = mean_squared_error(y_test,predict_test_gbr)\n",
    "rmse_gbr_test = np.sqrt(mse)\n",
    "print('Root Mean Squared Error:',rmse_gbr_test)"
   ]
  },
  {
   "cell_type": "code",
   "execution_count": 103,
   "id": "a5cee15f-a204-45ae-b962-af2f12ec8e88",
   "metadata": {
    "tags": []
   },
   "outputs": [
    {
     "name": "stdout",
     "output_type": "stream",
     "text": [
      "R2 error is:  0.6146570817552612\n",
      "Root Mean Squared Error: 3.480890113450614\n"
     ]
    }
   ],
   "source": [
    "predict_train_xgb = xgb.predict(X_train)\n",
    "error_score_xgb_train = r2_score(y_train,predict_train_xgb)\n",
    "print(\"R2 error is: \",error_score_xgb_train)\n",
    "mse = mean_squared_error(y_train,predict_train_xgb)\n",
    "rmse_xgb_train = np.sqrt(mse)\n",
    "print('Root Mean Squared Error:',rmse_xgb_train)\n"
   ]
  },
  {
   "cell_type": "code",
   "execution_count": 104,
   "id": "0d2b2b75-04f3-4c06-ab6d-c7560c582dbd",
   "metadata": {
    "tags": []
   },
   "outputs": [
    {
     "name": "stdout",
     "output_type": "stream",
     "text": [
      "R2 error is:  0.06962162709725872\n",
      "Root Mean Squared Error: 4.9048541075791325\n"
     ]
    }
   ],
   "source": [
    "predict_test_xgb = xgb.predict(X_test)\n",
    "error_score_xgb_test = r2_score(y_test,predict_test_xgb)\n",
    "print(\"R2 error is: \",error_score_xgb_test)\n",
    "mse = mean_squared_error(y_test,predict_test_xgb)\n",
    "rmse_xgb_test = np.sqrt(mse)\n",
    "print('Root Mean Squared Error:',rmse_xgb_test)"
   ]
  },
  {
   "cell_type": "code",
   "execution_count": 106,
   "id": "038ad0ba-939d-4ece-8261-54645c1b4b1d",
   "metadata": {
    "tags": []
   },
   "outputs": [
    {
     "name": "stdout",
     "output_type": "stream",
     "text": [
      "  Model Training R2 Testing R2 Training RMSE Testing RMSE                  0  \\\n",
      "0   NaN         NaN        NaN           NaN          NaN  Linear Regression   \n",
      "1   NaN         NaN        NaN           NaN          NaN           0.073189   \n",
      "2   NaN         NaN        NaN           NaN          NaN          -0.055895   \n",
      "3   NaN         NaN        NaN           NaN          NaN           5.398363   \n",
      "4   NaN         NaN        NaN           NaN          NaN           5.225245   \n",
      "\n",
      "                          1                         2  \\\n",
      "0  Decision Tree Regression  Random Forest Regression   \n",
      "1                  0.073189                  0.073189   \n",
      "2                 -0.055895                 -0.055895   \n",
      "3                  5.398363                  5.398363   \n",
      "4                  5.225245                  5.225245   \n",
      "\n",
      "                              3                    4  \n",
      "0  Gradient Boosting Regression  XG Boost Regression  \n",
      "1                      0.073189             0.073189  \n",
      "2                     -0.055895            -0.055895  \n",
      "3                      5.398363             5.398363  \n",
      "4                      5.225245             5.225245  \n"
     ]
    }
   ],
   "source": [
    "results = pd.DataFrame(columns=['Model','Training R2','Testing R2','Training RMSE','Testing RMSE'])\n",
    "results[0] = ['Linear Regression',error_score_lr_train,error_score_lr_test,rmse_lr_train,rmse_lr_test]\n",
    "results[1] = ['Decision Tree Regression',error_score_lr_train,error_score_lr_test,rmse_lr_train,rmse_lr_test]\n",
    "results[2] = ['Random Forest Regression',error_score_lr_train,error_score_lr_test,rmse_lr_train,rmse_lr_test]\n",
    "results[3] = ['Gradient Boosting Regression',error_score_lr_train,error_score_lr_test,rmse_lr_train,rmse_lr_test]\n",
    "results[4] = ['XG Boost Regression',error_score_lr_train,error_score_lr_test,rmse_lr_train,rmse_lr_test]\n",
    "\n",
    "print(results)"
   ]
  },
  {
   "cell_type": "code",
   "execution_count": 107,
   "id": "cda393e2-6a1f-4cd6-98a4-5ef004cf085b",
   "metadata": {
    "tags": []
   },
   "outputs": [],
   "source": [
    "pickle.dump(xgb,open('SW.pkl','wb'))"
   ]
  },
  {
   "cell_type": "code",
   "execution_count": null,
   "id": "6e24bc32-22ab-4631-aa1e-5da4b7d5c691",
   "metadata": {},
   "outputs": [],
   "source": []
  }
 ],
 "metadata": {
  "kernelspec": {
   "display_name": "Python 3 (ipykernel)",
   "language": "python",
   "name": "python3"
  },
  "language_info": {
   "codemirror_mode": {
    "name": "ipython",
    "version": 3
   },
   "file_extension": ".py",
   "mimetype": "text/x-python",
   "name": "python",
   "nbconvert_exporter": "python",
   "pygments_lexer": "ipython3",
   "version": "3.11.5"
  }
 },
 "nbformat": 4,
 "nbformat_minor": 5
}
